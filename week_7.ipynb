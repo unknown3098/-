{
 "cells": [
  {
   "cell_type": "code",
   "execution_count": 1,
   "id": "b36bf425-2b15-444d-b9ff-6beb6317e24d",
   "metadata": {},
   "outputs": [],
   "source": [
    "import numpy as np\n",
    "import matplotlib.pyplot as plt\n",
    "\n",
    "%precision 3\n",
    "%matplotlib inline\n"
   ]
  },
  {
   "cell_type": "code",
   "execution_count": 2,
   "id": "b614d5eb-81f4-421e-a17d-7cfc5915edbe",
   "metadata": {},
   "outputs": [],
   "source": [
    "x_set = np.array([1, 2, 3, 4, 5, 6])"
   ]
  },
  {
   "cell_type": "code",
   "execution_count": 3,
   "id": "c055b60e-ae6f-47c7-9c70-9ec42eab7b27",
   "metadata": {},
   "outputs": [],
   "source": [
    "def f(x):\n",
    "    if x in x_set:\n",
    "        return x / 21\n",
    "    else:\n",
    "        return 0"
   ]
  },
  {
   "cell_type": "code",
   "execution_count": 5,
   "id": "9c5c10bd-12cb-455a-bd91-2c75e1f366bb",
   "metadata": {},
   "outputs": [],
   "source": [
    "#함수설정\n",
    "X = [x_set, f]"
   ]
  },
  {
   "cell_type": "code",
   "execution_count": 6,
   "id": "1fa469f9-f15e-47f6-96d2-cd7d651e196f",
   "metadata": {},
   "outputs": [
    {
     "data": {
      "text/plain": [
       "{np.int64(1): 0.048,\n",
       " np.int64(2): 0.095,\n",
       " np.int64(3): 0.143,\n",
       " np.int64(4): 0.190,\n",
       " np.int64(5): 0.238,\n",
       " np.int64(6): 0.286}"
      ]
     },
     "execution_count": 6,
     "metadata": {},
     "output_type": "execute_result"
    }
   ],
   "source": [
    "prob = np.array([f(x_k) for x_k in x_set])\n",
    "dict(zip(x_set, prob))"
   ]
  },
  {
   "cell_type": "code",
   "execution_count": 7,
   "id": "47df5fca-f129-46d3-92eb-75f4721da90b",
   "metadata": {},
   "outputs": [
    {
     "data": {
      "image/png": "[encoded data removed]",
      "text/plain": [
       "<Figure size 1000x600 with 1 Axes>"
      ]
     },
     "metadata": {},
     "output_type": "display_data"
    }
   ],
   "source": [
    "fig = plt.figure(figsize=(10, 6))\n",
    "ax = fig.add_subplot(111)\n",
    "#정의된 것을 그래프로\n",
    "ax.bar(x_set, prob)\n",
    "ax.set_xlabel('value')\n",
    "ax.set_ylabel('probabillity')\n",
    "plt.show()"
   ]
  },
  {
   "cell_type": "code",
   "execution_count": 11,
   "id": "827a1304-699a-4ca4-9b61-5afe2e3148f7",
   "metadata": {},
   "outputs": [],
   "source": [
    "a = {'사과':1, '딸기':5, '귤':10}"
   ]
  },
  {
   "cell_type": "code",
   "execution_count": 12,
   "id": "5dbae1fa-3969-45f5-81c8-c2410b780fdb",
   "metadata": {},
   "outputs": [
    {
     "data": {
      "text/plain": [
       "{'사과': 1, '딸기': 5, '귤': 10}"
      ]
     },
     "execution_count": 12,
     "metadata": {},
     "output_type": "execute_result"
    }
   ],
   "source": [
    "a"
   ]
  },
  {
   "cell_type": "code",
   "execution_count": 14,
   "id": "9aeb7cd8-f334-4296-a9f3-f851bfc8d5e0",
   "metadata": {},
   "outputs": [
    {
     "data": {
      "text/plain": [
       "{('초콜릿', 200): 20, ('마카롱', 500): 15, ('쿠키', 300): 30}"
      ]
     },
     "execution_count": 14,
     "metadata": {},
     "output_type": "execute_result"
    }
   ],
   "source": [
    "a = {('초콜릿', 200):20, ('마카롱', 500):15, ('쿠키', 300):30}\n",
    "a"
   ]
  },
  {
   "cell_type": "code",
   "execution_count": 16,
   "id": "bbcf5b69-fc98-4057-9bd0-5c75088404de",
   "metadata": {},
   "outputs": [
    {
     "data": {
      "text/plain": [
       "5"
      ]
     },
     "execution_count": 16,
     "metadata": {},
     "output_type": "execute_result"
    }
   ],
   "source": [
    "a = {'사과':1, '딸기':5, '귤':10}\n",
    "v1 = a['딸기']\n",
    "v1"
   ]
  },
  {
   "cell_type": "code",
   "execution_count": 17,
   "id": "736d5a24-49f8-4b05-99a6-8201fbae8369",
   "metadata": {},
   "outputs": [
    {
     "ename": "KeyError",
     "evalue": "'레몬'",
     "output_type": "error",
     "traceback": [
      "\u001b[1;31m---------------------------------------------------------------------------\u001b[0m",
      "\u001b[1;31mKeyError\u001b[0m                                  Traceback (most recent call last)",
      "Cell \u001b[1;32mIn[17], line 1\u001b[0m\n\u001b[1;32m----> 1\u001b[0m v2\u001b[38;5;241m=\u001b[39ma[\u001b[38;5;124m'\u001b[39m\u001b[38;5;124m레몬\u001b[39m\u001b[38;5;124m'\u001b[39m]\n\u001b[0;32m      2\u001b[0m v2\n",
      "\u001b[1;31mKeyError\u001b[0m: '레몬'"
     ]
    }
   ],
   "source": [
    "v2=a['레몬']\n",
    "v2"
   ]
  },
  {
   "cell_type": "code",
   "execution_count": 18,
   "id": "135c22ca-8ace-453d-bb45-0746de290487",
   "metadata": {},
   "outputs": [
    {
     "data": {
      "text/plain": [
       "True"
      ]
     },
     "execution_count": 18,
     "metadata": {},
     "output_type": "execute_result"
    }
   ],
   "source": [
    "f1 = '딸기' in a \n",
    "f1"
   ]
  },
  {
   "cell_type": "code",
   "execution_count": 19,
   "id": "f3c0ef1c-e9b0-4610-b16f-ff29ad213f2f",
   "metadata": {},
   "outputs": [
    {
     "data": {
      "text/plain": [
       "True"
      ]
     },
     "execution_count": 19,
     "metadata": {},
     "output_type": "execute_result"
    }
   ],
   "source": [
    "f2 = '레몬' not in a\n",
    "f2"
   ]
  },
  {
   "cell_type": "code",
   "execution_count": 20,
   "id": "16244c66-7de1-432f-9005-d0e15678ec10",
   "metadata": {},
   "outputs": [
    {
     "data": {
      "text/plain": [
       "False"
      ]
     },
     "execution_count": 20,
     "metadata": {},
     "output_type": "execute_result"
    }
   ],
   "source": [
    "f3 = '레몬' in a \n",
    "f3"
   ]
  },
  {
   "cell_type": "code",
   "execution_count": 21,
   "id": "d618db05-d683-4a55-8a21-f0b4e6bf718a",
   "metadata": {},
   "outputs": [
    {
     "data": {
      "text/plain": [
       "5"
      ]
     },
     "execution_count": 21,
     "metadata": {},
     "output_type": "execute_result"
    }
   ],
   "source": [
    "v1 = a.get('딸기')\n",
    "v1"
   ]
  },
  {
   "cell_type": "code",
   "execution_count": 22,
   "id": "06c366ac-abe7-44e4-8228-f5a90d94da43",
   "metadata": {},
   "outputs": [
    {
     "data": {
      "text/plain": [
       "5"
      ]
     },
     "execution_count": 22,
     "metadata": {},
     "output_type": "execute_result"
    }
   ],
   "source": [
    "v2 = a.get('딸기')\n",
    "v2"
   ]
  },
  {
   "cell_type": "code",
   "execution_count": 23,
   "id": "1ddd7812-6f08-440e-9281-51e2aad84b01",
   "metadata": {},
   "outputs": [
    {
     "data": {
      "text/plain": [
       "{'초콜릿': 'One', '마카롱': 'Two', '쿠키': 'Three'}"
      ]
     },
     "execution_count": 23,
     "metadata": {},
     "output_type": "execute_result"
    }
   ],
   "source": [
    "a = {'초콜릿':1, '마카롱':2, '쿠키':3}\n",
    "a['초콜릿'] = 'One'\n",
    "a['마카롱'] = 'Two'\n",
    "a['쿠키'] = 'Three'\n",
    "a"
   ]
  },
  {
   "cell_type": "code",
   "execution_count": 25,
   "id": "39ae1189-3e5d-4159-848b-b94808ea98c9",
   "metadata": {},
   "outputs": [
    {
     "data": {
      "text/plain": [
       "{'초콜릿': 20, '마카롱': 15, '쿠키': 30}"
      ]
     },
     "execution_count": 25,
     "metadata": {},
     "output_type": "execute_result"
    }
   ],
   "source": [
    "d = dict(초콜릿 = 20, 마카롱 = 15, 쿠키 = 30)\n",
    "d"
   ]
  },
  {
   "cell_type": "code",
   "execution_count": 26,
   "id": "330f4b36-f8ea-4a39-becb-228d2613fd52",
   "metadata": {},
   "outputs": [
    {
     "data": {
      "text/plain": [
       "{'초콜릿': 20, '마카롱': 15, '쿠키': 30}"
      ]
     },
     "execution_count": 26,
     "metadata": {},
     "output_type": "execute_result"
    }
   ],
   "source": [
    "key = ['초콜릿', '마카롱', '쿠키']\n",
    "value = [20, 15, 30]\n",
    "d = dict(zip(key, value))\n",
    "d"
   ]
  },
  {
   "cell_type": "code",
   "execution_count": 28,
   "id": "f1e14aa4-0479-4a2b-a8b6-db9018d0a8d4",
   "metadata": {},
   "outputs": [
    {
     "data": {
      "text/plain": [
       "{'초콜릿': 20, '마카롱': 15, '쿠키': 30}"
      ]
     },
     "execution_count": 28,
     "metadata": {},
     "output_type": "execute_result"
    }
   ],
   "source": [
    "d = dict([('초콜릿', 20), ('마카롱', 15), ('쿠키', 30)])\n",
    "d"
   ]
  },
  {
   "cell_type": "code",
   "execution_count": 29,
   "id": "81c108fb-cceb-4cba-ac92-b51ad0d3d52d",
   "metadata": {},
   "outputs": [
    {
     "data": {
      "text/plain": [
       "np.True_"
      ]
     },
     "execution_count": 29,
     "metadata": {},
     "output_type": "execute_result"
    }
   ],
   "source": [
    "np.all(prob >= 0)"
   ]
  },
  {
   "cell_type": "code",
   "execution_count": 31,
   "id": "ec188d28-ee0e-4660-9fce-2bd740abf6a6",
   "metadata": {},
   "outputs": [
    {
     "data": {
      "text/plain": [
       "1.000"
      ]
     },
     "execution_count": 31,
     "metadata": {},
     "output_type": "execute_result"
    }
   ],
   "source": [
    "np. sum(prob)"
   ]
  },
  {
   "cell_type": "code",
   "execution_count": 37,
   "id": "233df581-1b55-440d-9e4a-4e95e33e313d",
   "metadata": {},
   "outputs": [],
   "source": [
    "def F(x):\n",
    "    return np.sum([f(x_k) for x_k in x_set if x_k <= x])"
   ]
  },
  {
   "cell_type": "code",
   "execution_count": 38,
   "id": "e307237a-7be8-45ed-9182-2ef90a5a12d7",
   "metadata": {},
   "outputs": [
    {
     "data": {
      "text/plain": [
       "0.286"
      ]
     },
     "execution_count": 38,
     "metadata": {},
     "output_type": "execute_result"
    }
   ],
   "source": [
    "F(3)"
   ]
  },
  {
   "cell_type": "code",
   "execution_count": 39,
   "id": "4ecb73d3-021a-4156-b02d-fad4d9174cf7",
   "metadata": {},
   "outputs": [
    {
     "data": {
      "text/plain": [
       "{np.int64(5): 0.048,\n",
       " np.int64(7): 0.095,\n",
       " np.int64(9): 0.143,\n",
       " np.int64(11): 0.190,\n",
       " np.int64(13): 0.238,\n",
       " np.int64(15): 0.286}"
      ]
     },
     "execution_count": 39,
     "metadata": {},
     "output_type": "execute_result"
    }
   ],
   "source": [
    "y_set = np.array([2 * x_k + 3 for x_k in x_set])\n",
    "prob = np.array([f(x_k) for x_k in x_set])\n",
    "dict(zip(y_set, prob))"
   ]
  },
  {
   "cell_type": "code",
   "execution_count": 40,
   "id": "e79500c2-2bbf-442d-858b-c0ff5605b01b",
   "metadata": {},
   "outputs": [
    {
     "data": {
      "text/plain": [
       "4.333"
      ]
     },
     "execution_count": 40,
     "metadata": {},
     "output_type": "execute_result"
    }
   ],
   "source": [
    "np.sum([x_k * f(x_k) for x_k in x_set])"
   ]
  },
  {
   "cell_type": "code",
   "execution_count": 45,
   "id": "5c615a23-35d0-40b1-9e12-7aa00a349f60",
   "metadata": {},
   "outputs": [
    {
     "data": {
      "text/plain": [
       "array([2, 3, 4, 0, 1], dtype=int32)"
      ]
     },
     "execution_count": 45,
     "metadata": {},
     "output_type": "execute_result"
    }
   ],
   "source": [
    "np.random. choice(5, 5, replace=False)"
   ]
  },
  {
   "cell_type": "code",
   "execution_count": 46,
   "id": "a8f6642e-9502-4d4f-a6e4-b50a5ec02a20",
   "metadata": {},
   "outputs": [
    {
     "data": {
      "text/plain": [
       "array([0, 4, 2], dtype=int32)"
      ]
     },
     "execution_count": 46,
     "metadata": {},
     "output_type": "execute_result"
    }
   ],
   "source": [
    "np.random.choice(5, 3, replace=False)"
   ]
  },
  {
   "cell_type": "code",
   "execution_count": 47,
   "id": "76551d7a-963c-4815-bd8e-5ecde0b82a37",
   "metadata": {},
   "outputs": [
    {
     "data": {
      "text/plain": [
       "array([0, 2, 2, 4, 1, 3, 1, 1, 1, 2], dtype=int32)"
      ]
     },
     "execution_count": 47,
     "metadata": {},
     "output_type": "execute_result"
    }
   ],
   "source": [
    "np.random.choice(5, 10)"
   ]
  },
  {
   "cell_type": "code",
   "execution_count": 50,
   "id": "0ee1eac2-afcc-4a35-9377-6328c0bd2ec7",
   "metadata": {},
   "outputs": [
    {
     "data": {
      "text/plain": [
       "array([3, 3, 0, 3, 3, 0, 3, 3, 3, 3], dtype=int32)"
      ]
     },
     "execution_count": 50,
     "metadata": {},
     "output_type": "execute_result"
    }
   ],
   "source": [
    "np.random.choice(5, 10, p=[0.1, 0, 0.3, 0.6, 0])"
   ]
  },
  {
   "cell_type": "code",
   "execution_count": 51,
   "id": "e314ac12-0542-4f5a-bb17-2e3479eff20d",
   "metadata": {},
   "outputs": [
    {
     "data": {
      "text/plain": [
       "4.332"
      ]
     },
     "execution_count": 51,
     "metadata": {},
     "output_type": "execute_result"
    }
   ],
   "source": [
    "sample = np.random.choice(x_set, int(1e6), p=prob)\n",
    "np.mean(sample)"
   ]
  },
  {
   "cell_type": "code",
   "execution_count": 56,
   "id": "e443a4a2-065e-4caa-8c3e-001e2ce7c5a8",
   "metadata": {},
   "outputs": [],
   "source": [
    "def E(X, g=lambda x: x):\n",
    "    x_set, f = X\n",
    "    return np. sum([g(x_k) * f(x_k) for x_k in x_set])"
   ]
  },
  {
   "cell_type": "code",
   "execution_count": 57,
   "id": "d8bc0333-af94-4786-9e70-10e90fa4fcc3",
   "metadata": {},
   "outputs": [
    {
     "data": {
      "text/plain": [
       "4.333"
      ]
     },
     "execution_count": 57,
     "metadata": {},
     "output_type": "execute_result"
    }
   ],
   "source": [
    "E(X)"
   ]
  },
  {
   "cell_type": "code",
   "execution_count": 58,
   "id": "c04e6cb0-d453-4849-9e3e-9935ea067d6e",
   "metadata": {},
   "outputs": [
    {
     "data": {
      "text/plain": [
       "11.667"
      ]
     },
     "execution_count": 58,
     "metadata": {},
     "output_type": "execute_result"
    }
   ],
   "source": [
    "E(X, g=lambda x: 2*x + 3)"
   ]
  },
  {
   "cell_type": "code",
   "execution_count": 60,
   "id": "dbb306b9-0cea-440c-8a17-6b6043d3e6ed",
   "metadata": {},
   "outputs": [
    {
     "data": {
      "text/plain": [
       "11.667"
      ]
     },
     "execution_count": 60,
     "metadata": {},
     "output_type": "execute_result"
    }
   ],
   "source": [
    "2 * E(X) + 3"
   ]
  },
  {
   "cell_type": "code",
   "execution_count": 61,
   "id": "d5f08e76-47e1-460d-96b3-3210c9453e24",
   "metadata": {},
   "outputs": [],
   "source": [
    "strings = ['hyeja', 'parkhyeja', 'youngtae', 'kimyoungtae', 'bbangtae']"
   ]
  },
  {
   "cell_type": "code",
   "execution_count": 63,
   "id": "23090b82-34d9-4427-aaa9-9cad84ca6bc9",
   "metadata": {},
   "outputs": [],
   "source": [
    "strings.sort(key=lambda x: len(set(list(x))))"
   ]
  },
  {
   "cell_type": "code",
   "execution_count": 64,
   "id": "dbbaf231-9d06-4414-9e6a-17b3fd170b97",
   "metadata": {},
   "outputs": [
    {
     "data": {
      "text/plain": [
       "['hyeja', 'bbangtae', 'parkhyeja', 'youngtae', 'kimyoungtae']"
      ]
     },
     "execution_count": 64,
     "metadata": {},
     "output_type": "execute_result"
    }
   ],
   "source": [
    "strings"
   ]
  },
  {
   "cell_type": "code",
   "execution_count": 65,
   "id": "2f4b8f7e-0fb6-4aaa-90c6-ed93d4760746",
   "metadata": {},
   "outputs": [
    {
     "data": {
      "text/plain": [
       "11.667"
      ]
     },
     "execution_count": 65,
     "metadata": {},
     "output_type": "execute_result"
    }
   ],
   "source": [
    "2 * E(X) + 3"
   ]
  },
  {
   "cell_type": "code",
   "execution_count": 66,
   "id": "ec6db5c8-0060-4de4-ba53-b2e73e970841",
   "metadata": {},
   "outputs": [
    {
     "data": {
      "text/plain": [
       "2.222"
      ]
     },
     "execution_count": 66,
     "metadata": {},
     "output_type": "execute_result"
    }
   ],
   "source": [
    "mean = E(X)\n",
    "np.sum([(x_k-mean)**2 * f(x_k) for x_k in x_set])"
   ]
  },
  {
   "cell_type": "code",
   "execution_count": 67,
   "id": "6a723ff5-6f49-4ad8-a029-ec63eecf554d",
   "metadata": {},
   "outputs": [
    {
     "data": {
      "text/plain": [
       "2.222"
      ]
     },
     "execution_count": 67,
     "metadata": {},
     "output_type": "execute_result"
    }
   ],
   "source": [
    "mean = E(X)\n",
    "np.sum([(x_k-mean)**2 * f(x_k) for x_k in x_set])"
   ]
  },
  {
   "cell_type": "code",
   "execution_count": 69,
   "id": "47b1e413-ba76-4101-9495-505512442b68",
   "metadata": {},
   "outputs": [],
   "source": [
    "def V(X, g=lambda x: x):\n",
    "    x_set, f = X\n",
    "    mean = E(X, g)\n",
    "    return np.sum([(g(x_k)-mean)**2 * f(x_k) for x_k in x_set])\n"
   ]
  },
  {
   "cell_type": "code",
   "execution_count": 70,
   "id": "0b0ee317-361c-4914-a9c7-1ed2725f6235",
   "metadata": {},
   "outputs": [
    {
     "data": {
      "text/plain": [
       "2.222"
      ]
     },
     "execution_count": 70,
     "metadata": {},
     "output_type": "execute_result"
    }
   ],
   "source": [
    "V(X)"
   ]
  },
  {
   "cell_type": "code",
   "execution_count": 71,
   "id": "72249fc6-fd7f-46cd-abcf-aa3aa2318e45",
   "metadata": {},
   "outputs": [
    {
     "data": {
      "text/plain": [
       "8.889"
      ]
     },
     "execution_count": 71,
     "metadata": {},
     "output_type": "execute_result"
    }
   ],
   "source": [
    "V(X, lambda x: 2*x + 3)"
   ]
  },
  {
   "cell_type": "code",
   "execution_count": 72,
   "id": "114eedbe-5343-467c-8446-5bcdb245b25c",
   "metadata": {},
   "outputs": [
    {
     "data": {
      "text/plain": [
       "8.889"
      ]
     },
     "execution_count": 72,
     "metadata": {},
     "output_type": "execute_result"
    }
   ],
   "source": [
    "2**2 * V(X)"
   ]
  },
  {
   "cell_type": "code",
   "execution_count": 73,
   "id": "8f613550-dccd-4ea4-aa79-e22e515951ba",
   "metadata": {},
   "outputs": [
    {
     "data": {
      "text/plain": [
       "8.889"
      ]
     },
     "execution_count": 73,
     "metadata": {},
     "output_type": "execute_result"
    }
   ],
   "source": [
    "2**2 * V(X)"
   ]
  },
  {
   "cell_type": "code",
   "execution_count": null,
   "id": "79d47fa1-cf57-440f-9a50-9e42cbf6fbba",
   "metadata": {},
   "outputs": [],
   "source": []
  }
 ],
 "metadata": {
  "kernelspec": {
   "display_name": "Python3",
   "language": "python",
   "name": "python3"
  },
  "language_info": {
   "codemirror_mode": {
    "name": "ipython",
    "version": 3
   },
   "file_extension": ".py",
   "mimetype": "text/x-python",
   "name": "python",
   "nbconvert_exporter": "python",
   "pygments_lexer": "ipython3",
   "version": "3.13.5"
  }
 },
 "nbformat": 4,
 "nbformat_minor": 5
}
