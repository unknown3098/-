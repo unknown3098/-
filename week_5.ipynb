{
 "cells": [
  {
   "cell_type": "code",
   "execution_count": 1,
   "id": "387a38bf-5e64-405a-868b-cf587b036e56",
   "metadata": {},
   "outputs": [],
   "source": [
    "import numpy as np\n",
    "import pandas as pd\n",
    "import matplotlib.pyplot as plt\n",
    "%precision 3\n",
    "%matplotlib inline"
   ]
  },
  {
   "cell_type": "code",
   "execution_count": 24,
   "id": "5ce62a47-08cc-4761-819d-bee927ebabc4",
   "metadata": {
    "scrolled": true
   },
   "outputs": [
    {
     "ename": "SyntaxError",
     "evalue": "(unicode error) 'unicodeescape' codec can't decode bytes in position 2-3: truncated \\UXXXXXXXX escape (3254215397.py, line 1)",
     "output_type": "error",
     "traceback": [
      "\u001b[1;36m  Cell \u001b[1;32mIn[24], line 1\u001b[1;36m\u001b[0m\n\u001b[1;33m    df = pd.read_csv('C:\\Users\\sctis\\Desktop\\대학과제\\1학년 2학기\\통계적 분석\\data\\ch4_scores400.csv')\u001b[0m\n\u001b[1;37m                     ^\u001b[0m\n\u001b[1;31mSyntaxError\u001b[0m\u001b[1;31m:\u001b[0m (unicode error) 'unicodeescape' codec can't decode bytes in position 2-3: truncated \\UXXXXXXXX escape\n"
     ]
    }
   ],
   "source": [
    "df = pd.read_csv('C:\\Users\\sctis\\Desktop\\대학과제\\1학년 2학기\\통계적 분석\\data\\ch4_scores400.csv')\n",
    "scores = np.array(df['score'])\n",
    "scores[:10]"
   ]
  },
  {
   "cell_type": "code",
   "execution_count": 25,
   "id": "0e537d43-7261-4cf8-adef-76ecc7cf7a2b",
   "metadata": {},
   "outputs": [
    {
     "ename": "NameError",
     "evalue": "name 'p' is not defined",
     "output_type": "error",
     "traceback": [
      "\u001b[1;31m---------------------------------------------------------------------------\u001b[0m",
      "\u001b[1;31mNameError\u001b[0m                                 Traceback (most recent call last)",
      "Cell \u001b[1;32mIn[25], line 2\u001b[0m\n\u001b[0;32m      1\u001b[0m np\u001b[38;5;241m.\u001b[39mrandom\u001b[38;5;241m.\u001b[39mchoice([\u001b[38;5;241m1\u001b[39m, \u001b[38;5;241m2\u001b[39m, \u001b[38;5;241m3\u001b[39m], \u001b[38;5;241m3\u001b[39m)\n\u001b[1;32m----> 2\u001b[0m p\u001b[38;5;241m.\u001b[39mrandom\u001b[38;5;241m.\u001b[39mchoice([\u001b[38;5;241m1\u001b[39m, \u001b[38;5;241m2\u001b[39m, \u001b[38;5;241m3\u001b[39m], \u001b[38;5;241m3\u001b[39m, replace\u001b[38;5;241m=\u001b[39m\u001b[38;5;28;01mFalse\u001b[39;00m)\n",
      "\u001b[1;31mNameError\u001b[0m: name 'p' is not defined"
     ]
    }
   ],
   "source": [
    "np.random.choice([1, 2, 3], 3)\n",
    "p.random.choice([1, 2, 3], 3, replace=False)"
   ]
  },
  {
   "cell_type": "code",
   "execution_count": 26,
   "id": "6c954796-db6f-4cee-b8f8-24108f5402cf",
   "metadata": {},
   "outputs": [
    {
     "ename": "NameError",
     "evalue": "name 'scores' is not defined",
     "output_type": "error",
     "traceback": [
      "\u001b[1;31m---------------------------------------------------------------------------\u001b[0m",
      "\u001b[1;31mNameError\u001b[0m                                 Traceback (most recent call last)",
      "Cell \u001b[1;32mIn[26], line 4\u001b[0m\n\u001b[0;32m      2\u001b[0m np\u001b[38;5;241m.\u001b[39mrandom\u001b[38;5;241m.\u001b[39mchoice([\u001b[38;5;241m1\u001b[39m, \u001b[38;5;241m2\u001b[39m, \u001b[38;5;241m3\u001b[39m], \u001b[38;5;241m3\u001b[39m)\n\u001b[0;32m      3\u001b[0m np\u001b[38;5;241m.\u001b[39mrandom\u001b[38;5;241m.\u001b[39mseed(\u001b[38;5;241m0\u001b[39m)\n\u001b[1;32m----> 4\u001b[0m sample \u001b[38;5;241m=\u001b[39m np\u001b[38;5;241m.\u001b[39mrandom\u001b[38;5;241m.\u001b[39mchoice(scores, \u001b[38;5;241m20\u001b[39m)\n\u001b[0;32m      5\u001b[0m sample\u001b[38;5;241m.\u001b[39mmean()\n",
      "\u001b[1;31mNameError\u001b[0m: name 'scores' is not defined"
     ]
    }
   ],
   "source": [
    "np.random.seed(0)\n",
    "np.random.choice([1, 2, 3], 3)\n",
    "np.random.seed(0)\n",
    "sample = np.random.choice(scores, 20)\n",
    "sample.mean()"
   ]
  },
  {
   "cell_type": "code",
   "execution_count": 27,
   "id": "b8bfb9ff-fe12-4128-b587-ce1fe9f64afb",
   "metadata": {},
   "outputs": [
    {
     "data": {
      "image/png": "[encoded data removed]",
      "text/plain": [
       "<Figure size 1000x600 with 2 Axes>"
      ]
     },
     "metadata": {},
     "output_type": "display_data"
    },
    {
     "data": {
      "text/plain": [
       "<Figure size 1000x600 with 0 Axes>"
      ]
     },
     "metadata": {},
     "output_type": "display_data"
    }
   ],
   "source": [
    "dice = [1, 2, 3, 4, 5, 6]\n",
    "prob = [1/21, 2/21, 3/21, 4/21, 5/21, 6/21]\n",
    "np.random.choice(dice, p=prob)\n",
    "num_trial = 100\n",
    "sample = np.random.choice(dice, num_trial, p=prob)\n",
    "freq, _ = np.histogram(sample, bins=6, range=(1, 7))\n",
    "pd.DataFrame({'frequency':freq,\n",
    "               'relative frequency':freq / num_trial},\n",
    "              index = pd.Index(np.arange(1, 7), name='dice'))\n",
    "ig = plt.figure(figsize=(10, 6))\n",
    "ax = fig.add_subplot(111)\n",
    "ax.hist(sample, bins=6, range=(1, 7), density=True, rwidth=0.8)\n",
    "ax.hlines(prob, np.arange(1, 7), np.arange(2, 8), colors='gray')\n",
    "ax.set_xticks(np.linspace(1.5, 6.5, 6))\n",
    "ax.set_xticklabels(np.arange(1, 7))\n",
    "ax.set_xlabel('dice')\n",
    "ax.set_ylabel('relative frequency')\n",
    "plt.show()\n",
    "num_trial = 10000\n",
    "sample = np.random.choice(dice, size=num_trial, p=prob)"
   ]
  },
  {
   "cell_type": "code",
   "execution_count": 28,
   "id": "84f86cc3-d0c4-4282-a8f4-6583374cd35e",
   "metadata": {},
   "outputs": [
    {
     "ename": "NameError",
     "evalue": "name 'scores' is not defined",
     "output_type": "error",
     "traceback": [
      "\u001b[1;31m---------------------------------------------------------------------------\u001b[0m",
      "\u001b[1;31mNameError\u001b[0m                                 Traceback (most recent call last)",
      "Cell \u001b[1;32mIn[28], line 3\u001b[0m\n\u001b[0;32m      1\u001b[0m fig \u001b[38;5;241m=\u001b[39m plt\u001b[38;5;241m.\u001b[39mfigure(figsize\u001b[38;5;241m=\u001b[39m(\u001b[38;5;241m10\u001b[39m, \u001b[38;5;241m6\u001b[39m))\n\u001b[0;32m      2\u001b[0m ax \u001b[38;5;241m=\u001b[39m fig\u001b[38;5;241m.\u001b[39madd_subplot(\u001b[38;5;241m111\u001b[39m)\n\u001b[1;32m----> 3\u001b[0m ax\u001b[38;5;241m.\u001b[39mhist(scores, bins\u001b[38;5;241m=\u001b[39m\u001b[38;5;241m100\u001b[39m, \u001b[38;5;28mrange\u001b[39m\u001b[38;5;241m=\u001b[39m(\u001b[38;5;241m0\u001b[39m, \u001b[38;5;241m100\u001b[39m), density\u001b[38;5;241m=\u001b[39m\u001b[38;5;28;01mTrue\u001b[39;00m)\n\u001b[0;32m      4\u001b[0m ax\u001b[38;5;241m.\u001b[39mset_xlim(\u001b[38;5;241m20\u001b[39m, \u001b[38;5;241m100\u001b[39m)\n\u001b[0;32m      5\u001b[0m ax\u001b[38;5;241m.\u001b[39mset_ylim(\u001b[38;5;241m0\u001b[39m, \u001b[38;5;241m0.042\u001b[39m)\n",
      "\u001b[1;31mNameError\u001b[0m: name 'scores' is not defined"
     ]
    }
   ],
   "source": [
    "fig = plt.figure(figsize=(10, 6))\n",
    "ax = fig.add_subplot(111)\n",
    "ax.hist(scores, bins=100, range=(0, 100), density=True)\n",
    "ax.set_xlim(20, 100)\n",
    "ax.set_ylim(0, 0.042)\n",
    "ax.set_xlabel('score')\n",
    "ax.set_ylabel('relative frequency')\n",
    "plt.show()\n",
    "np.random.choice(scores)\n",
    "sample = np.random.choice(scores, 10000)"
   ]
  },
  {
   "cell_type": "code",
   "execution_count": 29,
   "id": "79c15425-3246-4100-9544-1531fd7c0594",
   "metadata": {},
   "outputs": [
    {
     "ename": "NameError",
     "evalue": "name 'scores' is not defined",
     "output_type": "error",
     "traceback": [
      "\u001b[1;31m---------------------------------------------------------------------------\u001b[0m",
      "\u001b[1;31mNameError\u001b[0m                                 Traceback (most recent call last)",
      "Cell \u001b[1;32mIn[29], line 1\u001b[0m\n\u001b[1;32m----> 1\u001b[0m sample_means \u001b[38;5;241m=\u001b[39m [np\u001b[38;5;241m.\u001b[39mrandom\u001b[38;5;241m.\u001b[39mchoice(scores, \u001b[38;5;241m20\u001b[39m)\u001b[38;5;241m.\u001b[39mmean() \u001b[38;5;28;01mfor\u001b[39;00m _ \u001b[38;5;129;01min\u001b[39;00m \u001b[38;5;28mrange\u001b[39m(\u001b[38;5;241m10000\u001b[39m)]\n\u001b[0;32m      2\u001b[0m fig \u001b[38;5;241m=\u001b[39m plt\u001b[38;5;241m.\u001b[39mfigure(figsize\u001b[38;5;241m=\u001b[39m(\u001b[38;5;241m10\u001b[39m, \u001b[38;5;241m6\u001b[39m))\n\u001b[0;32m      3\u001b[0m ax \u001b[38;5;241m=\u001b[39m fig\u001b[38;5;241m.\u001b[39madd_subplot(\u001b[38;5;241m111\u001b[39m)\n",
      "\u001b[1;31mNameError\u001b[0m: name 'scores' is not defined"
     ]
    }
   ],
   "source": [
    "sample_means = [np.random.choice(scores, 20).mean() for _ in range(10000)]\n",
    "fig = plt.figure(figsize=(10, 6))\n",
    "ax = fig.add_subplot(111)\n",
    "ax.hist(sample_means, bins=100, range=(0, 100), density=True)\n",
    "ax.vlines(np.mean(scores), 0, 1, 'gray')\n",
    "ax.set_xlim(50, 90)\n",
    "ax.set_ylim(0, 0.13)\n",
    "ax.set_xlabel('score')\n",
    "ax.set_ylabel('relative frequency')\n",
    "plt.show()"
   ]
  },
  {
   "cell_type": "code",
   "execution_count": null,
   "id": "cfdec8aa-aa7f-4d81-a885-7a94fcfd8d46",
   "metadata": {},
   "outputs": [],
   "source": []
  },
  {
   "cell_type": "code",
   "execution_count": null,
   "id": "fb81957b-bd3b-4498-b31d-2143d4822e08",
   "metadata": {},
   "outputs": [],
   "source": []
  },
  {
   "cell_type": "code",
   "execution_count": null,
   "id": "b52e5279-83dc-420f-a040-7c912e80dfa4",
   "metadata": {},
   "outputs": [],
   "source": []
  },
  {
   "cell_type": "code",
   "execution_count": null,
   "id": "7ace9967-14c7-413c-a49f-b3e105fba28e",
   "metadata": {},
   "outputs": [],
   "source": []
  },
  {
   "cell_type": "code",
   "execution_count": null,
   "id": "6076711c-61de-4512-af71-6259ab635aa9",
   "metadata": {},
   "outputs": [],
   "source": []
  }
 ],
 "metadata": {
  "kernelspec": {
   "display_name": "Python3",
   "language": "python",
   "name": "python3"
  },
  "language_info": {
   "codemirror_mode": {
    "name": "ipython",
    "version": 3
   },
   "file_extension": ".py",
   "mimetype": "text/x-python",
   "name": "python",
   "nbconvert_exporter": "python",
   "pygments_lexer": "ipython3",
   "version": "3.13.5"
  }
 },
 "nbformat": 4,
 "nbformat_minor": 5
}
